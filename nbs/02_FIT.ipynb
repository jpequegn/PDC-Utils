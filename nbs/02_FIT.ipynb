{
 "cells": [
  {
   "cell_type": "markdown",
   "metadata": {},
   "source": [
    "# FIT File Support\n",
    "\n",
    "> Load and process FIT files from Garmin devices"
   ]
  },
  {
   "cell_type": "code",
   "execution_count": null,
   "metadata": {},
   "outputs": [],
   "source": [
    "#| default_exp fit"
   ]
  },
  {
   "cell_type": "code",
   "execution_count": null,
   "metadata": {},
   "outputs": [],
   "source": [
    "#| hide\n",
    "from nbdev.showdoc import *"
   ]
  },
  {
   "cell_type": "code",
   "execution_count": null,
   "metadata": {},
   "outputs": [],
   "source": [
    "#| export\n",
    "import fitdecode\n",
    "import numpy as np\n",
    "import pandas as pd\n",
    "from pathlib import Path\n",
    "from typing import Optional, Tuple, List\n",
    "import warnings"
   ]
  },
  {
   "cell_type": "markdown",
   "metadata": {},
   "source": [
    "## FIT File Loader\n",
    "\n",
    "The `FitLoader` class provides functionality to load and extract power data from Garmin FIT files."
   ]
  },
  {
   "cell_type": "code",
   "execution_count": null,
   "metadata": {},
   "outputs": [],
   "source": [
    "#| export\n",
    "class FitLoader:\n",
    "    \"\"\"Load and extract data from Garmin FIT files\"\"\"\n",
    "    \n",
    "    def __init__(self, filepath: str):\n",
    "        \"\"\"Initialize with path to FIT file\"\"\"\n",
    "        self.filepath = Path(filepath)\n",
    "        if not self.filepath.exists():\n",
    "            raise FileNotFoundError(f\"FIT file not found: {filepath}\")\n",
    "        if not self.filepath.suffix.lower() == '.fit':\n",
    "            warnings.warn(f\"File extension is not .fit: {filepath}\")\n",
    "    \n",
    "    def extract_power_data(self) -> pd.DataFrame:\n",
    "        \"\"\"Extract power and time data from FIT file\n",
    "        \n",
    "        Returns:\n",
    "            DataFrame with columns: timestamp, power, elapsed_time\n",
    "        \"\"\"\n",
    "        records = []\n",
    "        start_time = None\n",
    "        \n",
    "        with fitdecode.FitReader(self.filepath) as fit:\n",
    "            for frame in fit:\n",
    "                if isinstance(frame, fitdecode.FitDataMessage):\n",
    "                    if frame.name == 'record':\n",
    "                        record = {}\n",
    "                        \n",
    "                        # Extract relevant fields\n",
    "                        for field in frame.fields:\n",
    "                            if field.name == 'timestamp':\n",
    "                                record['timestamp'] = field.value\n",
    "                                if start_time is None:\n",
    "                                    start_time = field.value\n",
    "                            elif field.name == 'power':\n",
    "                                record['power'] = field.value\n",
    "                        \n",
    "                        # Only keep records with power data\n",
    "                        if 'power' in record and record['power'] is not None:\n",
    "                            if 'timestamp' in record:\n",
    "                                # Calculate elapsed time in seconds\n",
    "                                elapsed = (record['timestamp'] - start_time).total_seconds()\n",
    "                                record['elapsed_time'] = elapsed\n",
    "                            records.append(record)\n",
    "        \n",
    "        if not records:\n",
    "            raise ValueError(\"No power data found in FIT file\")\n",
    "        \n",
    "        df = pd.DataFrame(records)\n",
    "        \n",
    "        # Ensure we have elapsed_time column\n",
    "        if 'elapsed_time' not in df.columns and 'timestamp' in df.columns:\n",
    "            df['elapsed_time'] = (df['timestamp'] - df['timestamp'].iloc[0]).dt.total_seconds()\n",
    "        \n",
    "        return df\n",
    "    \n",
    "    def get_power_duration_data(self) -> Tuple[np.ndarray, np.ndarray]:\n",
    "        \"\"\"Extract power and duration data suitable for MMP/PDC analysis\n",
    "        \n",
    "        Returns:\n",
    "            Tuple of (durations, powers) as numpy arrays\n",
    "        \"\"\"\n",
    "        df = self.extract_power_data()\n",
    "        \n",
    "        # Use elapsed time as duration and power values\n",
    "        durations = df['elapsed_time'].values\n",
    "        powers = df['power'].values\n",
    "        \n",
    "        # Remove any NaN or invalid values\n",
    "        valid_mask = ~(np.isnan(powers) | np.isnan(durations))\n",
    "        durations = durations[valid_mask]\n",
    "        powers = powers[valid_mask]\n",
    "        \n",
    "        return durations, powers\n",
    "    \n",
    "    def compute_mmp_curve(self, durations: Optional[List[int]] = None) -> Tuple[np.ndarray, np.ndarray]:\n",
    "        \"\"\"Compute Mean Maximal Power curve from FIT file data\n",
    "        \n",
    "        Args:\n",
    "            durations: List of durations in seconds to compute MMP for.\n",
    "                      If None, uses default durations from 1s to 3600s\n",
    "        \n",
    "        Returns:\n",
    "            Tuple of (durations, mmp_values) as numpy arrays\n",
    "        \"\"\"\n",
    "        if durations is None:\n",
    "            # Default durations: 1s to 1 hour with more resolution at shorter durations\n",
    "            durations = list(range(1, 61)) + list(range(60, 301, 5)) + list(range(300, 1801, 30)) + list(range(1800, 3601, 60))\n",
    "        \n",
    "        df = self.extract_power_data()\n",
    "        powers = df['power'].values\n",
    "        \n",
    "        mmp_values = []\n",
    "        \n",
    "        for duration in durations:\n",
    "            if duration > len(powers):\n",
    "                # Not enough data for this duration\n",
    "                mmp_values.append(np.nan)\n",
    "                continue\n",
    "            \n",
    "            # Calculate rolling mean for this duration\n",
    "            rolling_mean = pd.Series(powers).rolling(window=duration, min_periods=duration).mean()\n",
    "            max_power = rolling_mean.max()\n",
    "            \n",
    "            mmp_values.append(max_power if not np.isnan(max_power) else 0)\n",
    "        \n",
    "        # Remove NaN values\n",
    "        durations = np.array(durations)\n",
    "        mmp_values = np.array(mmp_values)\n",
    "        valid_mask = ~np.isnan(mmp_values)\n",
    "        \n",
    "        return durations[valid_mask], mmp_values[valid_mask]"
   ]
  },
  {
   "cell_type": "markdown",
   "metadata": {},
   "source": [
    "## Integration with MMP and PDC Classes\n",
    "\n",
    "Add convenience methods to create MMP and PDC objects from FIT files."
   ]
  },
  {
   "cell_type": "code",
   "execution_count": null,
   "metadata": {},
   "outputs": [],
   "source": [
    "#| export\n",
    "def load_fit_file(filepath: str) -> FitLoader:\n",
    "    \"\"\"Load a FIT file and return a FitLoader instance\n",
    "    \n",
    "    Args:\n",
    "        filepath: Path to the FIT file\n",
    "    \n",
    "    Returns:\n",
    "        FitLoader instance\n",
    "    \"\"\"\n",
    "    return FitLoader(filepath)"
   ]
  },
  {
   "cell_type": "code",
   "execution_count": null,
   "metadata": {},
   "outputs": [],
   "source": [
    "#| export\n",
    "def mmp_from_fit(filepath: str, durations: Optional[List[int]] = None):\n",
    "    \"\"\"Create an MMP object from a FIT file\n",
    "    \n",
    "    Args:\n",
    "        filepath: Path to the FIT file\n",
    "        durations: List of durations in seconds to compute MMP for\n",
    "    \n",
    "    Returns:\n",
    "        MMP object with data from the FIT file\n",
    "    \"\"\"\n",
    "    from .mmp import MMP\n",
    "    \n",
    "    loader = FitLoader(filepath)\n",
    "    x, y = loader.compute_mmp_curve(durations)\n",
    "    \n",
    "    return MMP(x, y)"
   ]
  },
  {
   "cell_type": "code",
   "execution_count": null,
   "metadata": {},
   "outputs": [],
   "source": [
    "#| export\n",
    "def pdc_from_fit(filepath: str, durations: Optional[List[int]] = None):\n",
    "    \"\"\"Create a PDC object from a FIT file\n",
    "    \n",
    "    Args:\n",
    "        filepath: Path to the FIT file\n",
    "        durations: List of durations in seconds to compute MMP for\n",
    "    \n",
    "    Returns:\n",
    "        PDC object with data from the FIT file\n",
    "    \"\"\"\n",
    "    from .pdc import PDC\n",
    "    \n",
    "    loader = FitLoader(filepath)\n",
    "    x, y = loader.compute_mmp_curve(durations)\n",
    "    \n",
    "    return PDC(x, y)"
   ]
  },
  {
   "cell_type": "markdown",
   "metadata": {},
   "source": [
    "## Example Usage\n",
    "\n",
    "Here's how to use the FIT file functionality:"
   ]
  },
  {
   "cell_type": "code",
   "execution_count": null,
   "metadata": {},
   "outputs": [],
   "source": [
    "#| eval: false\n",
    "# Load a FIT file\n",
    "fit_loader = load_fit_file('path/to/your/activity.fit')\n",
    "\n",
    "# Extract raw power data\n",
    "power_df = fit_loader.extract_power_data()\n",
    "print(power_df.head())\n",
    "\n",
    "# Compute MMP curve\n",
    "durations, mmp_powers = fit_loader.compute_mmp_curve()\n",
    "\n",
    "# Create MMP object directly from FIT file\n",
    "mmp = mmp_from_fit('path/to/your/activity.fit')\n",
    "\n",
    "# Create PDC object directly from FIT file\n",
    "pdc = pdc_from_fit('path/to/your/activity.fit')\n",
    "\n",
    "# Fit the power duration curve\n",
    "result = pdc.fit()\n",
    "print(result.best_values)"
   ]
  },
  {
   "cell_type": "code",
   "execution_count": null,
   "metadata": {},
   "outputs": [],
   "source": [
    "#| hide\n",
    "import nbdev; nbdev.nbdev_export()"
   ]
  }
 ],
 "metadata": {
  "kernelspec": {
   "display_name": "python3",
   "language": "python",
   "name": "python3"
  }
 },
 "nbformat": 4,
 "nbformat_minor": 4
}
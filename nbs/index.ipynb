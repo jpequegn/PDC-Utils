{
 "cells": [
  {
   "cell_type": "code",
   "execution_count": null,
   "metadata": {},
   "outputs": [],
   "source": [
    "#| hide\n",
    "from PDC_Utils.pdc import *\n",
    "from PDC_Utils.fit import *\n",
    "import pandas as pd"
   ]
  },
  {
   "cell_type": "markdown",
   "metadata": {},
   "source": [
    "# PDC-Utils\n",
    "\n",
    "> Utilities to manage power duration curves"
   ]
  },
  {
   "cell_type": "markdown",
   "metadata": {},
   "source": [
    "Fitting algorithm for running or cycling power data with support for Garmin FIT files"
   ]
  },
  {
   "cell_type": "markdown",
   "metadata": {},
   "source": [
    "## Install"
   ]
  },
  {
   "cell_type": "markdown",
   "metadata": {},
   "source": [
    "```sh\n",
    "pip install PDC_Utils\n",
    "```"
   ]
  },
  {
   "cell_type": "markdown",
   "metadata": {},
   "source": [
    "## How to use"
   ]
  },
  {
   "cell_type": "markdown",
   "metadata": {},
   "source": [
    "Uses a MMP curve based on best power efforts. You can load data from CSV files or directly from Garmin FIT files.\n",
    "\n",
    "### Using CSV data\n",
    "\n",
    "An example of CSV input is in the data directory:"
   ]
  },
  {
   "cell_type": "code",
   "execution_count": null,
   "metadata": {},
   "outputs": [],
   "source": [
    "df = pd.read_csv(\"../data/mmpcurve.csv\")\n",
    "pdc = PDC(df['Secs'], df['Watts'])"
   ]
  },
  {
   "cell_type": "code",
   "execution_count": null,
   "metadata": {},
   "outputs": [
    {
     "data": {
      "text/plain": [
       "247.97104270072407"
      ]
     },
     "execution_count": null,
     "metadata": {},
     "output_type": "execute_result"
    }
   ],
   "source": [
    "result = pdc.fit()\n",
    "result.best_values['ftp']"
   ]
  },
  {
   "cell_type": "markdown",
   "metadata": {},
   "source": [
    "### Using FIT files\n",
    "\n",
    "You can also load data directly from Garmin FIT files:"
   ]
  },
  {
   "cell_type": "code",
   "execution_count": null,
   "metadata": {},
   "outputs": [],
   "source": [
    "#| eval: false\n",
    "# Load a FIT file and create a PDC object\n",
    "pdc_from_fit_file = pdc_from_fit('path/to/your/activity.fit')\n",
    "\n",
    "# Or create an MMP object\n",
    "mmp_from_fit_file = mmp_from_fit('path/to/your/activity.fit')\n",
    "\n",
    "# You can also work with the raw FIT data\n",
    "fit_loader = load_fit_file('path/to/your/activity.fit')\n",
    "power_data = fit_loader.extract_power_data()\n",
    "durations, mmp_powers = fit_loader.compute_mmp_curve()"
   ]
  },
  {
   "cell_type": "code",
   "execution_count": null,
   "metadata": {},
   "outputs": [],
   "source": []
  }
 ],
 "metadata": {
  "kernelspec": {
   "display_name": "Python 3 (ipykernel)",
   "language": "python",
   "name": "python3"
  }
 },
 "nbformat": 4,
 "nbformat_minor": 4
}

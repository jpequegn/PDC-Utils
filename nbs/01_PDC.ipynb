{
 "cells": [
  {
   "cell_type": "markdown",
   "metadata": {},
   "source": [
    "# PDC\n",
    "\n",
    "> Utilities to manipulate power duration curves, fit them and do what-if analysis"
   ]
  },
  {
   "cell_type": "code",
   "execution_count": null,
   "metadata": {},
   "outputs": [],
   "source": [
    "#| default_exp pdc"
   ]
  },
  {
   "cell_type": "code",
   "execution_count": null,
   "metadata": {},
   "outputs": [],
   "source": [
    "#| hide\n",
    "from nbdev.showdoc import *"
   ]
  },
  {
   "cell_type": "code",
   "execution_count": null,
   "metadata": {},
   "outputs": [],
   "source": [
    "#| hide\n",
    "import nbdev; nbdev.nbdev_export()"
   ]
  },
  {
   "cell_type": "code",
   "execution_count": null,
   "metadata": {},
   "outputs": [],
   "source": [
    "#| export\n",
    "from lmfit import Model, Parameters\n",
    "import numpy as np\n",
    "import pandas as pd"
   ]
  },
  {
   "cell_type": "markdown",
   "metadata": {},
   "source": [
    "The power_curve function will be fitted to its parameters, with reasonable bounds"
   ]
  },
  {
   "cell_type": "code",
   "execution_count": null,
   "metadata": {},
   "outputs": [],
   "source": [
    "#| export\n",
    "def power_curve(x, \n",
    "                frc,  # Functional Reserve Capacity \n",
    "                ftp,  # Functional Threshold Power\n",
    "                tte,  # Time to Exhaustion\n",
    "                tau,  # Short end calibration\n",
    "                tau2, # Long end calibration\n",
    "                a): # Decay factor past TTE\n",
    "    p = frc/x * (1.0 - np.exp(-x/tau)) + ftp * (1 - np.exp(-x / tau2))\n",
    "    p -= np.maximum(0, a * np.log(x / tte))\n",
    "    return p"
   ]
  },
  {
   "cell_type": "code",
   "execution_count": null,
   "metadata": {},
   "outputs": [],
   "source": [
    "#| export\n",
    "class PDC:\n",
    "    \"A Power Duraction Curve\"\n",
    "    def __init__(self, x, y): self.x, self.y = x, y\n",
    "    \n",
    "    def fit(self):\n",
    "        gmodel = Model(power_curve)\n",
    "        params = Parameters()\n",
    "        params.add('frc', value=5000, min=1, max=15000)\n",
    "        params.add('ftp', value=150, min=100, max=400)\n",
    "        params.add('tte', value=2000, min=1800, max=3600)\n",
    "        params.add('tau', value=12, min=10, max=25)\n",
    "        params.add('tau2', value=5000, min=10, max=25)\n",
    "        params.add('a', value=10, min=1, max=200)\n",
    "        \n",
    "        return gmodel.fit(self.y, params, x=self.x)\n",
    "        \n",
    "    "
   ]
  },
  {
   "cell_type": "code",
   "execution_count": null,
   "metadata": {},
   "outputs": [
    {
     "data": {
      "text/markdown": [
       "---\n",
       "\n",
       "### PDC\n",
       "\n",
       ">      PDC (x, y)\n",
       "\n",
       "A Power Duraction Curve"
      ],
      "text/plain": [
       "---\n",
       "\n",
       "### PDC\n",
       "\n",
       ">      PDC (x, y)\n",
       "\n",
       "A Power Duraction Curve"
      ]
     },
     "execution_count": null,
     "metadata": {},
     "output_type": "execute_result"
    }
   ],
   "source": [
    "show_doc(PDC)"
   ]
  },
  {
   "cell_type": "markdown",
   "metadata": {},
   "source": [
    "Load a mean maximal curve, with time in seconds and corresponding watts"
   ]
  },
  {
   "cell_type": "code",
   "execution_count": null,
   "metadata": {},
   "outputs": [],
   "source": [
    "df = pd.read_csv(\"../data/mmpcurve.csv\")\n",
    "pdc = PDC(df['Secs'], df['Watts'])"
   ]
  },
  {
   "cell_type": "code",
   "execution_count": null,
   "metadata": {},
   "outputs": [],
   "source": [
    "result = pdc.fit()"
   ]
  },
  {
   "cell_type": "code",
   "execution_count": null,
   "metadata": {},
   "outputs": [
    {
     "data": {
      "text/plain": [
       "{'frc': 10190.691792353007,\n",
       " 'ftp': 247.97104270072407,\n",
       " 'tte': 1800.0000561443576,\n",
       " 'tau': 12.619522854826833,\n",
       " 'tau2': 25.0,\n",
       " 'a': 33.22731702525135}"
      ]
     },
     "execution_count": null,
     "metadata": {},
     "output_type": "execute_result"
    }
   ],
   "source": [
    "result.best_values"
   ]
  },
  {
   "cell_type": "code",
   "execution_count": null,
   "metadata": {},
   "outputs": [],
   "source": []
  }
 ],
 "metadata": {
  "kernelspec": {
   "display_name": "Python 3 (ipykernel)",
   "language": "python",
   "name": "python3"
  }
 },
 "nbformat": 4,
 "nbformat_minor": 4
}
